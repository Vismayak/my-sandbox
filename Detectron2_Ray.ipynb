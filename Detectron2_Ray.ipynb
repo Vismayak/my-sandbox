{
 "cells": [
  {
   "cell_type": "code",
   "execution_count": null,
   "id": "160a4528-e7f1-4fff-89c8-58f1581873d2",
   "metadata": {},
   "outputs": [],
   "source": [
    "import torch, detectron2\n",
    "TORCH_VERSION = \".\".join(torch.__version__.split(\".\")[:2])\n",
    "CUDA_VERSION = torch.__version__.split(\"+\")[-1]\n",
    "print(\"torch: \", TORCH_VERSION, \"; cuda: \", CUDA_VERSION)\n",
    "print(\"detectron2:\", detectron2.__version__)"
   ]
  },
  {
   "cell_type": "code",
   "execution_count": 29,
   "id": "7fddbba7-bfc9-4b54-b4cb-e5bc7d72f19b",
   "metadata": {},
   "outputs": [],
   "source": [
    "# Some basic setup:\n",
    "# Setup detectron2 logger\n",
    "import detectron2\n",
    "from detectron2.utils.logger import setup_logger\n",
    "setup_logger()\n",
    "\n",
    "# import some common libraries\n",
    "import numpy as np\n",
    "import os, json, cv2, random, matplotlib.pyplot as plt\n",
    "import time\n",
    "\n",
    "\n",
    "# import some common detectron2 utilities\n",
    "from detectron2 import model_zoo\n",
    "from detectron2.engine import DefaultPredictor\n",
    "from detectron2.config import get_cfg\n",
    "from detectron2.utils.visualizer import Visualizer\n",
    "from detectron2.data import MetadataCatalog, DatasetCatalog"
   ]
  },
  {
   "cell_type": "markdown",
   "id": "c3a1c93a-fd02-40d7-8549-0923d89f8735",
   "metadata": {},
   "source": [
    "## Helper functions"
   ]
  },
  {
   "cell_type": "code",
   "execution_count": 117,
   "id": "ff613b0c-a511-492d-b37b-36c0a345fa16",
   "metadata": {},
   "outputs": [],
   "source": [
    "def cv2_imshow(img):\n",
    "    \"\"\"\n",
    "    Displays an image in a Jupyter notebook using matplotlib.\n",
    "\n",
    "    Args:\n",
    "        image_path (str): Path to the image file.\n",
    "    \"\"\"\n",
    "\n",
    "    # Check if the image was successfully loaded\n",
    "    if img is None:\n",
    "        print(f\"Error: Image at {image_path} not found or failed to load.\")\n",
    "        return\n",
    "    \n",
    "    # Convert the image from BGR to RGB for correct display with matplotlib\n",
    "    img_rgb = cv2.cvtColor(img, cv2.COLOR_BGR2RGB)\n",
    "\n",
    "    # Display the image\n",
    "    plt.imshow(img_rgb)\n",
    "    plt.axis('off')  # Turn off the axis labels\n",
    "    plt.show()\n",
    "\n",
    "def read_random_image(directory_path):\n",
    "    # Get a list of all files in the directory\n",
    "    all_files = os.listdir(directory_path)\n",
    "    \n",
    "    # Filter out the image files (commonly supported formats)\n",
    "    image_extensions = ['.jpg', '.jpeg', '.png', '.bmp', '.tiff']\n",
    "    image_files = [file for file in all_files if any(file.lower().endswith(ext) for ext in image_extensions)]\n",
    "    \n",
    "    if not image_files:\n",
    "        raise ValueError(\"No image files found in the directory.\")\n",
    "    \n",
    "    # Choose a random image file\n",
    "    random_image = random.choice(image_files)\n",
    "    \n",
    "    # Construct the full path to the image\n",
    "    image_path = os.path.join(directory_path, random_image)\n",
    "    \n",
    "    # Read the image using cv2\n",
    "    img = cv2.imread(image_path)\n",
    "    \n",
    "    if img is None:\n",
    "        raise ValueError(\"Failed to read the image file.\")\n",
    "    \n",
    "    return img"
   ]
  },
  {
   "cell_type": "markdown",
   "id": "d59a25c8-1acc-42f4-a2a3-e3328d47364e",
   "metadata": {},
   "source": [
    "# Standard Detectron2 Run"
   ]
  },
  {
   "cell_type": "code",
   "execution_count": null,
   "id": "02cf8ebd-fe6d-410e-8f48-b78b99cc1bcd",
   "metadata": {},
   "outputs": [],
   "source": [
    "# Use image from local person coco dataset\n",
    "im = read_random_image(\"./person\")\n",
    "cv2_imshow(im)"
   ]
  },
  {
   "cell_type": "code",
   "execution_count": null,
   "id": "b5bc45c1-77e5-40f2-804b-5e8d971d3a2a",
   "metadata": {},
   "outputs": [],
   "source": [
    "# Then, we create a detectron2 config and a detectron2 DefaultPredictor to run inference on this image.\n",
    "cfg = get_cfg()\n",
    "# add project-specific config (e.g., TensorMask) here if you're not running a model in detectron2's core library\n",
    "cfg.merge_from_file(model_zoo.get_config_file(\"COCO-InstanceSegmentation/mask_rcnn_R_50_FPN_3x.yaml\"))\n",
    "cfg.MODEL.ROI_HEADS.SCORE_THRESH_TEST = 0.5  # set threshold for this model\n",
    "# Find a model from detectron2's model zoo. You can use the https://dl.fbaipublicfiles... url as well\n",
    "cfg.MODEL.WEIGHTS = model_zoo.get_checkpoint_url(\"COCO-InstanceSegmentation/mask_rcnn_R_50_FPN_3x.yaml\")\n",
    "predictor = DefaultPredictor(cfg)\n",
    "outputs = predictor(im)"
   ]
  },
  {
   "cell_type": "code",
   "execution_count": null,
   "id": "9183e08c",
   "metadata": {},
   "outputs": [],
   "source": [
    "images = [read_random_image(\"./person\") for _ in range(3)]\n",
    "\n",
    "start_time = time.time()\n",
    "for im in images:\n",
    "    outputs = predictor(im)\n",
    "    v = Visualizer(im[:, :, ::-1], MetadataCatalog.get(cfg.DATASETS.TRAIN[0]), scale=1.2)\n",
    "    v = v.draw_instance_predictions(outputs[\"instances\"].to(\"cpu\"))\n",
    "    cv2_imshow(v.get_image()[:, :, ::-1])\n",
    "print(\"Time: \", time.time() - start_time)"
   ]
  },
  {
   "cell_type": "code",
   "execution_count": null,
   "id": "ab0a1622-87a1-40aa-b7e1-a32b467ff302",
   "metadata": {},
   "outputs": [],
   "source": [
    "# look at the outputs. See https://detectron2.readthedocs.io/tutorials/models.html#model-output-format for specification\n",
    "print(outputs[\"instances\"].pred_classes)\n",
    "print(outputs[\"instances\"].pred_boxes)"
   ]
  },
  {
   "cell_type": "code",
   "execution_count": null,
   "id": "b2268bed-624c-4554-930d-3da26b288463",
   "metadata": {},
   "outputs": [],
   "source": [
    "# We can use `Visualizer` to draw the predictions on the image.\n",
    "v = Visualizer(im[:, :, ::-1], MetadataCatalog.get(cfg.DATASETS.TRAIN[0]), scale=1.2)\n",
    "out = v.draw_instance_predictions(outputs[\"instances\"].to(\"cpu\"))\n",
    "cv2_imshow(out.get_image()[:, :, ::-1])"
   ]
  },
  {
   "cell_type": "markdown",
   "id": "6d12ac82-f5fc-4256-a7ef-a0a424e07904",
   "metadata": {},
   "source": [
    "# Ray Batch Inference"
   ]
  },
  {
   "cell_type": "code",
   "execution_count": null,
   "id": "ff5dccb0",
   "metadata": {},
   "outputs": [],
   "source": [
    "import ray\n",
    "ray.init(_temp_dir='/taiga/mohanar2/raytmp', ignore_reinit_error=True)\n",
    "ray.available_resources()"
   ]
  },
  {
   "cell_type": "code",
   "execution_count": null,
   "id": "05666d0d",
   "metadata": {},
   "outputs": [],
   "source": [
    "# Basic Ray Inference implementation is working\n",
    "cfg = get_cfg()\n",
    "cfg.merge_from_file(model_zoo.get_config_file(\"COCO-InstanceSegmentation/mask_rcnn_R_50_FPN_3x.yaml\"))\n",
    "cfg.MODEL.ROI_HEADS.SCORE_THRESH_TEST = 0.5  # set a custom testing threshold\n",
    "cfg.MODEL.WEIGHTS = model_zoo.get_checkpoint_url(\"COCO-InstanceSegmentation/mask_rcnn_R_50_FPN_3x.yaml\")\n",
    "\n",
    "# Load the model once\n",
    "def setup_model():\n",
    "    predictor = DefaultPredictor(cfg)\n",
    "    return predictor\n",
    "\n",
    "# Run inference on a batch of images\n",
    "@ray.remote(num_gpus=1)\n",
    "def run_inference_on_batch(image):\n",
    "    predictor = setup_model()\n",
    "    result = {\"image\": image, \"outputs\": predictor(image)}\n",
    "    return result\n",
    "\n",
    "images = [read_random_image(\"./person\") for _ in range(3)]\n",
    "result_refs = [run_inference_on_batch.remote(image) for image in images]\n",
    "\n",
    "start_time = time.time()\n",
    "while len(result_refs) > 0:\n",
    "    # Wait for the next task to complete\n",
    "    ready_object_ids, remaining = ray.wait(result_refs, num_returns=1)\n",
    "    results = ray.get(ready_object_ids)\n",
    "    for result in results:\n",
    "        im = result[\"image\"]\n",
    "        outputs = result[\"outputs\"]\n",
    "        cv2_imshow(im)\n",
    "        v = Visualizer(im[:, :, ::-1], MetadataCatalog.get(cfg.DATASETS.TRAIN[0]), scale=1.2)\n",
    "        out = v.draw_instance_predictions(outputs[\"instances\"].to(\"cpu\"))\n",
    "        cv2_imshow(out.get_image()[:, :, ::-1])\n",
    "    result_refs = remaining\n",
    "\n",
    "print(\"Time: \", time.time() - start_time)"
   ]
  },
  {
   "cell_type": "code",
   "execution_count": 100,
   "id": "10bc4571",
   "metadata": {},
   "outputs": [],
   "source": [
    "ray.shutdown()"
   ]
  },
  {
   "cell_type": "code",
   "execution_count": null,
   "id": "5026e692",
   "metadata": {},
   "outputs": [],
   "source": []
  }
 ],
 "metadata": {
  "kernelspec": {
   "display_name": "Python 3 (ipykernel)",
   "language": "python",
   "name": "python3"
  },
  "language_info": {
   "codemirror_mode": {
    "name": "ipython",
    "version": 3
   },
   "file_extension": ".py",
   "mimetype": "text/x-python",
   "name": "python",
   "nbconvert_exporter": "python",
   "pygments_lexer": "ipython3",
   "version": "3.10.14"
  }
 },
 "nbformat": 4,
 "nbformat_minor": 5
}
