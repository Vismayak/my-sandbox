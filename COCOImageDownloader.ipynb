{
 "cells": [
  {
   "cell_type": "markdown",
   "id": "02a6529e-ef5a-4c39-baf9-d07f0c0fbeef",
   "metadata": {},
   "source": [
    "## Step1 : instll cocodataset package"
   ]
  },
  {
   "cell_type": "code",
   "execution_count": 1,
   "id": "6135b099-f691-4322-a0bf-124cea7a0697",
   "metadata": {},
   "outputs": [
    {
     "name": "stdout",
     "output_type": "stream",
     "text": [
      "Collecting CocoDataset==0.1.2\n",
      "  Downloading CocoDataset-0.1.2-py3-none-any.whl.metadata (1.3 kB)\n",
      "Requirement already satisfied: pycocotools in /taiga/conda/envs/clowder2-extractors/lib/python3.10/site-packages (from CocoDataset==0.1.2) (2.0.7)\n",
      "Requirement already satisfied: matplotlib>=2.1.0 in /taiga/conda/envs/clowder2-extractors/lib/python3.10/site-packages (from pycocotools->CocoDataset==0.1.2) (3.9.0)\n",
      "Requirement already satisfied: numpy in /taiga/conda/envs/clowder2-extractors/lib/python3.10/site-packages (from pycocotools->CocoDataset==0.1.2) (1.26.4)\n",
      "Requirement already satisfied: contourpy>=1.0.1 in /taiga/conda/envs/clowder2-extractors/lib/python3.10/site-packages (from matplotlib>=2.1.0->pycocotools->CocoDataset==0.1.2) (1.2.1)\n",
      "Requirement already satisfied: cycler>=0.10 in /taiga/conda/envs/clowder2-extractors/lib/python3.10/site-packages (from matplotlib>=2.1.0->pycocotools->CocoDataset==0.1.2) (0.12.1)\n",
      "Requirement already satisfied: fonttools>=4.22.0 in /taiga/conda/envs/clowder2-extractors/lib/python3.10/site-packages (from matplotlib>=2.1.0->pycocotools->CocoDataset==0.1.2) (4.53.0)\n",
      "Requirement already satisfied: kiwisolver>=1.3.1 in /taiga/conda/envs/clowder2-extractors/lib/python3.10/site-packages (from matplotlib>=2.1.0->pycocotools->CocoDataset==0.1.2) (1.4.5)\n",
      "Requirement already satisfied: packaging>=20.0 in /taiga/conda/envs/clowder2-extractors/lib/python3.10/site-packages (from matplotlib>=2.1.0->pycocotools->CocoDataset==0.1.2) (24.1)\n",
      "Requirement already satisfied: pillow>=8 in /taiga/conda/envs/clowder2-extractors/lib/python3.10/site-packages (from matplotlib>=2.1.0->pycocotools->CocoDataset==0.1.2) (9.3.0)\n",
      "Requirement already satisfied: pyparsing>=2.3.1 in /taiga/conda/envs/clowder2-extractors/lib/python3.10/site-packages (from matplotlib>=2.1.0->pycocotools->CocoDataset==0.1.2) (3.1.2)\n",
      "Requirement already satisfied: python-dateutil>=2.7 in /taiga/conda/envs/clowder2-extractors/lib/python3.10/site-packages (from matplotlib>=2.1.0->pycocotools->CocoDataset==0.1.2) (2.9.0)\n",
      "Requirement already satisfied: six>=1.5 in /taiga/conda/envs/clowder2-extractors/lib/python3.10/site-packages (from python-dateutil>=2.7->matplotlib>=2.1.0->pycocotools->CocoDataset==0.1.2) (1.16.0)\n",
      "Downloading CocoDataset-0.1.2-py3-none-any.whl (4.2 kB)\n",
      "Installing collected packages: CocoDataset\n",
      "Successfully installed CocoDataset-0.1.2\n"
     ]
    }
   ],
   "source": [
    "!pip install CocoDataset==0.1.2"
   ]
  },
  {
   "cell_type": "markdown",
   "id": "b2deb6c5-a0ba-451d-8521-8e4a70e65f8b",
   "metadata": {},
   "source": [
    "## Step 2 download annotations for coco dataset classes"
   ]
  },
  {
   "cell_type": "code",
   "execution_count": 4,
   "id": "b28d58de-50b7-4eae-afb3-52fdbb00997c",
   "metadata": {},
   "outputs": [
    {
     "name": "stdout",
     "output_type": "stream",
     "text": [
      "--2024-09-20 17:59:09--  http://images.cocodataset.org/annotations/annotations_trainval2014.zip\n",
      "Resolving images.cocodataset.org (images.cocodataset.org)... 52.217.236.41, 54.231.137.9, 16.182.101.33, ...\n",
      "Connecting to images.cocodataset.org (images.cocodataset.org)|52.217.236.41|:80... connected.\n",
      "HTTP request sent, awaiting response... 200 OK\n",
      "Length: 252872794 (241M) [application/zip]\n",
      "Saving to: ‘annotations_trainval2014.zip’\n",
      "\n",
      "annotations_trainva 100%[===================>] 241.16M  96.2MB/s    in 2.5s    \n",
      "\n",
      "2024-09-20 17:59:11 (96.2 MB/s) - ‘annotations_trainval2014.zip’ saved [252872794/252872794]\n",
      "\n",
      "Archive:  ./annotations_trainval2014.zip\n",
      "  inflating: annotations/instances_train2014.json  \n",
      "  inflating: annotations/instances_val2014.json  \n",
      "  inflating: annotations/person_keypoints_train2014.json  \n",
      "  inflating: annotations/person_keypoints_val2014.json  \n",
      "  inflating: annotations/captions_train2014.json  \n",
      "  inflating: annotations/captions_val2014.json  \n"
     ]
    }
   ],
   "source": [
    "!wget http://images.cocodataset.org/annotations/annotations_trainval2014.zip\n",
    "!unzip ./annotations_trainval2014.zip"
   ]
  },
  {
   "cell_type": "markdown",
   "id": "2e18aea4-4fb9-42bd-9e00-0925419eb413",
   "metadata": {},
   "source": [
    "# Download images"
   ]
  },
  {
   "cell_type": "code",
   "execution_count": 5,
   "id": "7c334fc6-8fb8-4946-b822-4502ff4335d7",
   "metadata": {},
   "outputs": [
    {
     "name": "stdout",
     "output_type": "stream",
     "text": [
      "loading annotations into memory...\n",
      "Done (t=9.60s)\n",
      "creating index...\n",
      "index created!\n",
      "no.of image: 1\n",
      "no.of image: 2\n",
      "no.of image: 3\n",
      "no.of image: 4\n",
      "no.of image: 5\n",
      "no.of image: 6\n",
      "no.of image: 7\n",
      "no.of image: 8\n",
      "no.of image: 9\n",
      "no.of image: 10\n",
      "finished images download\n"
     ]
    }
   ],
   "source": [
    "from coco_dataset import coco_dataset_download as cocod\n",
    "class_name='person'  #class name \n",
    "images_count=10       #count of images  \n",
    "annotations_path='./annotations/instances_train2014.json' #path of coco dataset annotations \n",
    "#call download function\n",
    "cocod.coco_dataset_download(class_name,images_count,annotations_path)"
   ]
  },
  {
   "cell_type": "code",
   "execution_count": null,
   "id": "69bfd029-a800-40ea-a713-512af988bc8a",
   "metadata": {},
   "outputs": [],
   "source": []
  }
 ],
 "metadata": {
  "kernelspec": {
   "display_name": "Python 3 (ipykernel)",
   "language": "python",
   "name": "python3"
  },
  "language_info": {
   "codemirror_mode": {
    "name": "ipython",
    "version": 3
   },
   "file_extension": ".py",
   "mimetype": "text/x-python",
   "name": "python",
   "nbconvert_exporter": "python",
   "pygments_lexer": "ipython3",
   "version": "3.10.14"
  }
 },
 "nbformat": 4,
 "nbformat_minor": 5
}
